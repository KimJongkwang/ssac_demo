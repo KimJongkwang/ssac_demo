{
 "metadata": {
  "language_info": {
   "codemirror_mode": {
    "name": "ipython",
    "version": 3
   },
   "file_extension": ".py",
   "mimetype": "text/x-python",
   "name": "python",
   "nbconvert_exporter": "python",
   "pygments_lexer": "ipython3",
   "version": "3.7.9-final"
  },
  "orig_nbformat": 2,
  "kernelspec": {
   "name": "python3",
   "display_name": "Python 3.7.9 64-bit ('ssac-one': conda)",
   "metadata": {
    "interpreter": {
     "hash": "76b2629d6ec435d7388922d36b92d0407f8c79ba22b8fc1ee3b64f51506916f2"
    }
   }
  }
 },
 "nbformat": 4,
 "nbformat_minor": 2,
 "cells": [
  {
   "cell_type": "code",
   "execution_count": 2,
   "metadata": {},
   "outputs": [],
   "source": [
    "import requests\n",
    "import xmltodict\n",
    "import json # json 처리\n",
    "import pymysql\n",
    "import time\n",
    "import random\n",
    "from datetime import datetime"
   ]
  },
  {
   "cell_type": "code",
   "execution_count": 3,
   "metadata": {},
   "outputs": [
    {
     "output_type": "stream",
     "name": "stdout",
     "text": [
      "Active code page: 65001\n"
     ]
    }
   ],
   "source": [
    "# !chcp 65001"
   ]
  },
  {
   "cell_type": "code",
   "execution_count": 3,
   "metadata": {},
   "outputs": [
    {
     "output_type": "stream",
     "name": "stdout",
     "text": [
      "# conda environments:\n#\nbase                     C:\\ProgramData\\Miniconda3\nssac-one              *  C:\\ProgramData\\Miniconda3\\envs\\ssac-one\n                         C:\\Users\\kjk66\\anaconda3\n\n"
     ]
    }
   ],
   "source": [
    "# !conda info --envs 환경"
   ]
  },
  {
   "source": [
    "# 코로나 해외 발병현황(20200101 - 20201231)"
   ],
   "cell_type": "markdown",
   "metadata": {}
  },
  {
   "cell_type": "code",
   "execution_count": 3,
   "metadata": {},
   "outputs": [],
   "source": [
    "# 코로나 OpenAPI 연계\n",
    "url = 'http://openapi.data.go.kr/openapi/service/rest/Covid19/getCovid19NatInfStateJson'\n",
    "api_key = '3fFyL9wc7wsGOpUkhxQchp0AZBH8PlyNELGTdLSBGeXMNgaPRcHbWZ%2FsKlNnnw4q67omLLYJM34Yu1osH58d9w%3D%3D'\n",
    "\n",
    "qs = 'ServiceKey={0}&startCreateDt={1}&endCreateDt={2}'.format(api_key, '20200101', '20201231') \n",
    "\n",
    "response = requests.get(url + \"?\" + qs)\n",
    "response_dict = xmltodict.parse(response.content) # xml -> ordereddict\n",
    "response_json = json.dumps(response_dict, ensure_ascii=False) # ordereddict -> json-string\n",
    "response_dict2 = json.loads(response_json) # json-stirng -> general dict\n",
    "values = response_dict2['response']['body']['items']['item']"
   ]
  },
  {
   "cell_type": "code",
   "execution_count": 4,
   "metadata": {},
   "outputs": [
    {
     "output_type": "execute_result",
     "data": {
      "text/plain": [
       "{'areaNm': '기타',\n",
       " 'areaNmCn': '其他',\n",
       " 'areaNmEn': 'Others',\n",
       " 'createDt': '2020-12-31 10:14:39.677',\n",
       " 'natDeathCnt': '3785',\n",
       " 'natDeathRate': '1.1921109655',\n",
       " 'natDefCnt': '317504',\n",
       " 'nationNm': '기타지역 영토',\n",
       " 'nationNmCn': '其他',\n",
       " 'nationNmEn': 'Others',\n",
       " 'seq': '67239',\n",
       " 'stdDay': '2020년 12월 31일 09시',\n",
       " 'updateDt': 'null'}"
      ]
     },
     "metadata": {},
     "execution_count": 4
    }
   ],
   "source": [
    "values[0]"
   ]
  },
  {
   "cell_type": "code",
   "execution_count": 4,
   "metadata": {},
   "outputs": [
    {
     "output_type": "execute_result",
     "data": {
      "text/plain": [
       "'\\ncreate table global_def_cnt(\\n\\tarea varchar(30), \\n    area_cn varchar(30),\\n    area_en varchar(30), \\n    creat_dt datetime not null, \\n    nat_death_cnt int, \\n    nat_death_rate double, \\n    nat_def_cnt int, \\n    nat varchar(30) not null, \\n    nat_cn varchar(30), \\n    nat_en varchar(30), \\n    seq int primary key, \\n    stdday date not null, \\n    update_dt datetime);  \\n'"
      ]
     },
     "metadata": {},
     "execution_count": 4
    }
   ],
   "source": [
    "# 코로나 해외발생현황 테이블 생성 (mysql 작업)\n",
    "\"\"\"\n",
    "create table global_def_cnt(\n",
    "\tarea varchar(30), \n",
    "    area_cn varchar(30),\n",
    "    area_en varchar(30), \n",
    "    creat_dt datetime not null, \n",
    "    nat_death_cnt int, \n",
    "    nat_death_rate double, \n",
    "    nat_def_cnt int, \n",
    "    nat varchar(30) not null, \n",
    "    nat_cn varchar(30), \n",
    "    nat_en varchar(100), \n",
    "    seq int primary key, \n",
    "    stdday date not null, \n",
    "    update_dt datetime);  \n",
    "\"\"\"\n",
    "\n",
    "# 응답메시지 명세\n",
    "\"\"\"\n",
    "global_covid_desc = {'areaNm' : '지역명', \n",
    "                     'areaNmCn' : '지역명(중문)', \n",
    "                     'areaNmEn' : '지역명(영문)', \n",
    "                     'createDt' : '등록일시분초', \n",
    "                     'natDeathCnt' : '국가별 사망자 수', \n",
    "                     'natDeathRate' : '확진률 대비 사망률', \n",
    "                     'natDefCnt' : '국가별 확진자 수', \n",
    "                     'nationNm' : '국가명', \n",
    "                     'nationNmCn' : '국가명(중문)', \n",
    "                     'nationNmEn' : '지역명(영문)', \n",
    "                     'seq' : '게시글번호(고유)', \n",
    "                     'stdDay' : '기준일시', \n",
    "                     'updateDt' : '수정일시분초'}\n",
    "\"\"\""
   ]
  },
  {
   "cell_type": "code",
   "execution_count": 6,
   "metadata": {},
   "outputs": [
    {
     "output_type": "stream",
     "name": "stdout",
     "text": [
      "{'areaNm': 'area', 'areaNmCn': 'area_cn', 'areaNmEn': 'area_en', 'createDt': 'creat_dt', 'natDeathCnt': 'nat_death_cnt', 'natDeathRate': 'nat_death_rate', 'natDefCnt': 'nat_def_cnt', 'nationNm': 'nat', 'nationNmCn': 'nat_cn', 'nationNmEn': 'nat_en', 'seq': 'seq', 'stdDay': 'stdday', 'updateDt': 'update_dt'}\n{'area': 'areaNm', 'area_cn': 'areaNmCn', 'area_en': 'areaNmEn', 'creat_dt': 'createDt', 'nat_death_cnt': 'natDeathCnt', 'nat_death_rate': 'natDeathRate', 'nat_def_cnt': 'natDefCnt', 'nat': 'nationNm', 'nat_cn': 'nationNmCn', 'nat_en': 'nationNmEn', 'seq': 'seq', 'stdday': 'stdDay', 'update_dt': 'updateDt'}\n"
     ]
    },
    {
     "output_type": "execute_result",
     "data": {
      "text/plain": [
       "(13, 13)"
      ]
     },
     "metadata": {},
     "execution_count": 6
    }
   ],
   "source": [
    "# api 파라미터별 컬럼 매핑\n",
    "columns = ['area', 'area_cn', 'area_en', 'creat_dt', 'nat_death_cnt', 'nat_death_rate', 'nat_def_cnt', 'nat', 'nat_cn', 'nat_en', 'seq', 'stdday', 'update_dt']\n",
    "\n",
    "keys = ['areaNm', 'areaNmCn', 'areaNmEn', 'createDt', 'natDeathCnt', 'natDeathRate', 'natDefCnt', 'nationNm',\t'nationNmCn', 'nationNmEn', 'seq', 'stdDay', 'updateDt']\n",
    "\n",
    "key_column_map = { key: column for key, column in zip(keys, columns) }\n",
    "print( key_column_map )\n",
    "column_key_map = { column: key for key, column in zip(keys, columns) }\n",
    "print( column_key_map )\n",
    "\n",
    "len(keys), len(columns)"
   ]
  },
  {
   "cell_type": "code",
   "execution_count": null,
   "metadata": {},
   "outputs": [],
   "source": [
    "connection_info = { 'host': 'localhost', 'user': 'root', 'password': 'Pa$$w0rd', 'db': 'prj1', 'charset': 'utf8' }\n",
    "conn = pymysql.connect(**connection_info)\n",
    "cursor = conn.cursor()\n",
    "\n",
    "for value in values:\n",
    "\n",
    "    dt = datetime.strptime(value['createDt'], \"%Y-%m-%d %H:%M:%S.%f\")\n",
    "    value['createDt'] = datetime.strftime(dt, '%Y-%m-%d %H:%M:%S')\n",
    "    dt = datetime.strptime(value['stdDay'], \"%Y년 %m월 %d일 %H시\")\n",
    "    value['stdDay'] = datetime.strftime(dt, '%Y-%m-%d')\n",
    "\n",
    "\n",
    "    try: value['areaNmCn'] = value['areaNmCn'] if value['areaNmCn'] else '-1' \n",
    "    except: value['areaNmCn'] = '-1'\n",
    "\n",
    "    try: value['areaNmEn'] = value['areaNmEn'] if value['areaNmEn'] else '-1'\n",
    "    except: value['areaNmEn'] = '-1'\n",
    "\n",
    "    try: value['nationNmCn'] = value['nationNmCn'] if value['nationNmCn'] else '-1'\n",
    "    except: value['nationNmCn'] = '-1'\n",
    "\n",
    "    try: value['nationNmEn'] = value['nationNmEn'] if value['nationNmEn'] else '-1'\n",
    "    except: value['nationNmEn'] = '-1'  \n",
    "\n",
    "    if not value['updateDt'] or value['updateDt'] == 'null':\n",
    "        value['updateDt'] = value['createDt']\n",
    "    else:\n",
    "        dt = datetime.strptime(value['updateDt'], \"%Y-%m-%d %H:%M:%S.%f\")\n",
    "        value['updateDt'] = datetime.strftime(dt, '%Y-%m-%d %H:%M:%S')\n",
    "\n",
    "    # value['qurRate'] = value['qurRate'] if value['qurRate'].isdigit() else '-1'  \n",
    "\n",
    "    sql = 'INSERT INTO global_def_cnt VALUES(%s, %s, %s, %s, %s, %s, %s, %s, %s, %s, %s, %s, %s)'\n",
    "    cursor.execute(sql, [ value[column_key_map[column]] for column in columns ])\n",
    "\n",
    "\n",
    "conn.commit()\n",
    "\n",
    "conn.close()"
   ]
  },
  {
   "source": [
    "# 미세먼지 데이터"
   ],
   "cell_type": "markdown",
   "metadata": {}
  },
  {
   "cell_type": "code",
   "execution_count": 6,
   "metadata": {},
   "outputs": [],
   "source": [
    "# https://data.seoul.go.kr/dataList/OA-2218/S/1/datasetView.do\n",
    "# 서울시 일별 평균 대기오염도 정보 (2019~2020)\n",
    "# 파일데이터(csv)"
   ]
  },
  {
   "cell_type": "code",
   "execution_count": 3,
   "metadata": {},
   "outputs": [],
   "source": [
    "import csv\n",
    "import re\n",
    "\n",
    "dust_info = []\n",
    "with open('D:\\ssac-one\\demo-repo\\data\\일별평균대기오염도.csv') as f:\n",
    "    reader = csv.reader(f)\n",
    "    header = next(reader)\n",
    "    for line in reader:        \n",
    "        for i in range(2, 8):\n",
    "            line[i] = 0 if line[i] == '' else line[i]\n",
    "        dust_info.append(line)"
   ]
  },
  {
   "cell_type": "code",
   "execution_count": 3,
   "metadata": {},
   "outputs": [
    {
     "output_type": "execute_result",
     "data": {
      "text/plain": [
       "'\\ncreate table obs_dust(\\n\\tobs_dt date not null,\\n    stn_nm varchar(20) primary key,\\n    no2 double,\\n    o3 double,\\n    co2 double,\\n    so2 double,\\n    pm10 int,\\n    pm25 int);\\n'"
      ]
     },
     "metadata": {},
     "execution_count": 3
    }
   ],
   "source": [
    "# 미세먼지 관측정보 테이블 생성 (mysql 작업)\n",
    "\"\"\"\n",
    "create table obs_dust(\n",
    "\tobs_dt date not null,\n",
    "    stn_nm varchar(20),\n",
    "    no2 double default 0,\n",
    "    o3 double default 0,\n",
    "    co2 double default 0,\n",
    "    so2 double default 0,\n",
    "    pm10 int default 0,\n",
    "    pm25 int default 0);\n",
    "\"\"\""
   ]
  },
  {
   "cell_type": "code",
   "execution_count": 4,
   "metadata": {},
   "outputs": [
    {
     "output_type": "execute_result",
     "data": {
      "text/plain": [
       "['20190101', '관악산', '0.011', '0.024', 0, '0.004', '31', '18']"
      ]
     },
     "metadata": {},
     "execution_count": 4
    }
   ],
   "source": [
    "dust_info[8]"
   ]
  },
  {
   "cell_type": "code",
   "execution_count": 5,
   "metadata": {},
   "outputs": [],
   "source": [
    "sql = 'INSERT INTO obs_dust VALUES(%s, %s, %s, %s, %s, %s, %s, %s)'\n",
    "cursor.executemany(sql, dust_info) \n",
    "conn.commit()\n",
    "\n",
    "conn.close()"
   ]
  },
  {
   "cell_type": "code",
   "execution_count": null,
   "metadata": {},
   "outputs": [],
   "source": []
  }
 ]
}