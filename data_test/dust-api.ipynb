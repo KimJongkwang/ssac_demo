{
 "metadata": {
  "language_info": {
   "codemirror_mode": {
    "name": "ipython",
    "version": 3
   },
   "file_extension": ".py",
   "mimetype": "text/x-python",
   "name": "python",
   "nbconvert_exporter": "python",
   "pygments_lexer": "ipython3",
   "version": "3.7.9-final"
  },
  "orig_nbformat": 2,
  "kernelspec": {
   "name": "python3",
   "display_name": "Python 3",
   "language": "python"
  }
 },
 "nbformat": 4,
 "nbformat_minor": 2,
 "cells": [
  {
   "cell_type": "code",
   "execution_count": 1,
   "metadata": {},
   "outputs": [],
   "source": [
    "# Module\n",
    "import requests\n",
    "import xmltodict\n",
    "import json # json 처리"
   ]
  },
  {
   "source": [
    "# COVID19 GLOBAL DATA API"
   ],
   "cell_type": "markdown",
   "metadata": {}
  },
  {
   "cell_type": "code",
   "execution_count": 6,
   "metadata": {},
   "outputs": [],
   "source": [
    "\n",
    "url = 'http://openapi.data.go.kr/openapi/service/rest/Covid19/getCovid19NatInfStateJson'\n",
    "api_key = '3fFyL9wc7wsGOpUkhxQchp0AZBH8PlyNELGTdLSBGeXMNgaPRcHbWZ%2FsKlNnnw4q67omLLYJM34Yu1osH58d9w%3D%3D'\n",
    "\n",
    "qs = 'ServiceKey={0}&startCreateDt={1}&endCreateDt={2}'.format(api_key, '20201201', '20201201') \n",
    "# qs = querystring &로 시작하는 문자열\n",
    "\n",
    "response = requests.get(url + \"?\" + qs)"
   ]
  },
  {
   "cell_type": "code",
   "execution_count": 8,
   "metadata": {},
   "outputs": [],
   "source": [
    "# response.content"
   ]
  },
  {
   "cell_type": "code",
   "execution_count": null,
   "metadata": {},
   "outputs": [],
   "source": []
  },
  {
   "cell_type": "code",
   "execution_count": null,
   "metadata": {},
   "outputs": [],
   "source": []
  },
  {
   "cell_type": "code",
   "execution_count": null,
   "metadata": {},
   "outputs": [],
   "source": []
  },
  {
   "cell_type": "code",
   "execution_count": null,
   "metadata": {},
   "outputs": [],
   "source": []
  },
  {
   "source": [
    "# FINE DUST DATA API"
   ],
   "cell_type": "markdown",
   "metadata": {}
  },
  {
   "cell_type": "code",
   "execution_count": null,
   "metadata": {},
   "outputs": [],
   "source": []
  },
  {
   "cell_type": "code",
   "execution_count": null,
   "metadata": {},
   "outputs": [],
   "source": []
  },
  {
   "cell_type": "code",
   "execution_count": 37,
   "metadata": {},
   "outputs": [],
   "source": [
    "# 시도별 실시간 측정정보 조회\n",
    "\n",
    "url = 'http://openapi.airkorea.or.kr/openapi/services/rest/ArpltnInforInqireSvc/getCtprvnRltmMesureDnsty'\n",
    "api_key = '1ECA%2B%2FkJQlH%2BGdQD0nV71AT4K2kfLo%2B5Nunpn33Fkze%2FQi6Q0IpeCmIOBw6Wud5FHWnFHBTZtCTUp2zJqiwfRw%3D%3D'\n",
    "\n",
    "qs = 'ServiceKey={0}&numOfRows={1}&pageNo={2}&sidoName={3}&endCreateDt={4}'.format(api_key, 10, 1, '서울', '20201206') \n",
    "    # qs = querystring &로 시작하는 문자열\n",
    "\n",
    "response = requests.get(url + \"?\" + qs)"
   ]
  },
  {
   "cell_type": "code",
   "execution_count": 27,
   "metadata": {},
   "outputs": [],
   "source": []
  },
  {
   "cell_type": "code",
   "execution_count": 38,
   "metadata": {},
   "outputs": [
    {
     "output_type": "stream",
     "name": "stdout",
     "text": [
      "<class 'list'>\n10\n"
     ]
    }
   ],
   "source": [
    "print(type(values))\n",
    "print(len(values))\n",
    "values[0]\n",
    "values_item_desc = {'stationName': '측정소명',\n",
    "                    'dataTime': '측정일시',\n",
    "                    'so2Value': '아황산가스 농도',\n",
    "                    'coValue': '일산화탄소 농도',\n",
    "                    'o3Value': '오존 농도',\n",
    "                    'no2Value': '이산화질소 농도',\n",
    "                    'pm10Value': '미세먼지(PM10) 농도',\n",
    "                    'khaiValue': '통합대기환경수치',\n",
    "                    'khaiGrade': '통합대기환경지수',\n",
    "                    'so2Grade': '아황산가스 지수',\n",
    "                    'coGrade': '일산화탄소 지수',\n",
    "                    'o3Grade': '오존 지수',\n",
    "                    'no2Grade': '일산화질소 지수',\n",
    "                    'pm10Grade': '미세먼지(PM10) 24시간 등급자료'}"
   ]
  },
  {
   "source": [
    "# 기간별 측정소 조회"
   ],
   "cell_type": "markdown",
   "metadata": {}
  },
  {
   "cell_type": "code",
   "execution_count": null,
   "metadata": {},
   "outputs": [],
   "source": []
  },
  {
   "source": [
    "# 측정소 목록 api"
   ],
   "cell_type": "markdown",
   "metadata": {}
  },
  {
   "cell_type": "code",
   "execution_count": null,
   "metadata": {},
   "outputs": [],
   "source": [
    "# 시도별 실시간 측정정보 조회\n",
    "\n",
    "url = 'http://apis.data.go.kr/B552584/MsrstnInfoInqireSvc/getMsrstnList'\n",
    "api_key = '1ECA%2B%2FkJQlH%2BGdQD0nV71AT4K2kfLo%2B5Nunpn33Fkze%2FQi6Q0IpeCmIOBw6Wud5FHWnFHBTZtCTUp2zJqiwfRw%3D%3D'\n",
    "\n",
    "qs = 'ServiceKey={0}&numOfRows={1}&pageNo={2}&sidoName={3}&endCreateDt={4}'.format(api_key, 10, 1, '서울', '20201206') \n",
    "    # qs = querystring &로 시작하는 문자열\n",
    "\n",
    "response = requests.get(url + \"?\" + qs)"
   ]
  },
  {
   "source": [
    "# TABLE 설계"
   ],
   "cell_type": "markdown",
   "metadata": {}
  },
  {
   "cell_type": "code",
   "execution_count": null,
   "metadata": {},
   "outputs": [],
   "source": []
  },
  {
   "cell_type": "code",
   "execution_count": 32,
   "metadata": {},
   "outputs": [
    {
     "output_type": "error",
     "ename": "NameError",
     "evalue": "name '계' is not defined",
     "traceback": [
      "\u001b[1;31m---------------------------------------------------------------------------\u001b[0m",
      "\u001b[1;31mNameError\u001b[0m                                 Traceback (most recent call last)",
      "\u001b[1;32m<ipython-input-32-d8688796965a>\u001b[0m in \u001b[0;36m<module>\u001b[1;34m\u001b[0m\n\u001b[1;32m----> 1\u001b[1;33m \u001b[0m계\u001b[0m\u001b[1;33m\u001b[0m\u001b[1;33m\u001b[0m\u001b[0m\n\u001b[0m",
      "\u001b[1;31mNameError\u001b[0m: name '계' is not defined"
     ]
    }
   ],
   "source": [
    "columns = [\n",
    "    'st_name', 'dataTime', 'so2Value', 'coValue', 'o3Value', 'no2Value', 'pm10Value', \n",
    "    'khaiValue', 'khaiGrade', 'so2Grade', 'coGrade', 'o3Grade', 'no2Grade', 'pm10Grade'\n",
    "]\n",
    "keys = [\n",
    "    'stationName', 'dataTime', 'so2Value', 'coValue', 'o3Value', 'no2Value', 'pm10Value', \n",
    "    'khaiValue', 'khaiGrade', 'so2Grade', 'coGrade', 'o3Grade', 'no2Grade', 'pm10Grade'\n",
    "]\n",
    "\n",
    "key_column_map = { key: column for key, column in zip(keys, columns) }\n",
    "print( key_column_map )\n",
    "column_key_map = { column: key for key, column in zip(keys, columns) }\n",
    "print( column_key_map )\n",
    "\n",
    "len(keys), len(columns)"
   ]
  },
  {
   "cell_type": "code",
   "execution_count": null,
   "metadata": {},
   "outputs": [],
   "source": []
  }
 ]
}